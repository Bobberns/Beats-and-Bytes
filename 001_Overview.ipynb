{
 "cells": [
  {
   "cell_type": "markdown",
   "id": "7249eb75",
   "metadata": {},
   "source": [
    "###### <center>**A Thesis Project Implementation By Jonaz Juan C. Sayson & Fabiola C. Villanueva**</center> \n",
    "\n",
    "### <center>**\"Model and Forecasting Genre Popularity in Spotify Music Through Audio Feature Analysis Using XGBoost and ARIMA Time Series Modeling\"**</center>\n",
    "\n",
    "---"
   ]
  },
  {
   "cell_type": "markdown",
   "id": "eba776ea",
   "metadata": {},
   "source": [
    "<h2>002_DataProcessing</h2>\n",
    "<p>This file contains the preprocessing of the raw dataset. To know the specific methods used to prepare the dataset for training, you can check out chapter 4.3.2 of our thesis paper entitled Treatment of Data.</p>"
   ]
  }
 ],
 "metadata": {
  "kernelspec": {
   "display_name": "Python 3",
   "language": "python",
   "name": "python3"
  },
  "language_info": {
   "codemirror_mode": {
    "name": "ipython",
    "version": 3
   },
   "file_extension": ".py",
   "mimetype": "text/x-python",
   "name": "python",
   "nbconvert_exporter": "python",
   "pygments_lexer": "ipython3",
   "version": "3.13.3"
  }
 },
 "nbformat": 4,
 "nbformat_minor": 5
}
